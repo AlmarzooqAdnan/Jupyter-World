{
 "cells": [
  {
   "cell_type": "markdown",
   "id": "9ccca62a-bb4f-4958-a55b-52972b704235",
   "metadata": {
    "tags": []
   },
   "source": [
    "# Data Science Tools and Ecosystem"
   ]
  },
  {
   "cell_type": "markdown",
   "id": "0d619d20-51d9-4f8e-a650-763d30fbf744",
   "metadata": {},
   "source": [
    "In this notebook, Data Science Tools and Ecosystem are summarized."
   ]
  },
  {
   "cell_type": "markdown",
   "id": "6590e2b7-70e0-4200-9f0b-47a9039c95a7",
   "metadata": {},
   "source": [
    "Some of the popular languages that Data Scientists use are:\n",
    "1. Python\n",
    "2. R\n",
    "3. Julia\n",
    "4. SQL"
   ]
  },
  {
   "cell_type": "markdown",
   "id": "7dd946fb-a8bd-4f4b-87a7-aae1cd9c4161",
   "metadata": {},
   "source": [
    "_Objectives:_\n",
    "* Collecting data\n",
    "* Processing data\n",
    "* Exploring and visualizing data\n",
    "* Analyzing (data) and/or applying machine learning (to data)\n",
    "* Deciding (or planning) based on acquired insight"
   ]
  },
  {
   "cell_type": "markdown",
   "id": "b5547422-b6b5-4240-9c11-3a9be39c721a",
   "metadata": {},
   "source": [
    "Some of the commonly used libraries used by Data Scientists include:\n",
    "1. Matplotlib\n",
    "2. NumPy\n",
    "3. TensorFlow\n",
    "4. Scikit-learn\n",
    "5. Pandas\n",
    "6. PyTorch"
   ]
  },
  {
   "cell_type": "markdown",
   "id": "ebec0909-b763-4c0e-957f-9fd8be4c12fd",
   "metadata": {
    "tags": []
   },
   "source": [
    "| Data Science Tools |\n",
    "| ------ |\n",
    "| Apache Spark |\n",
    "| IBM SPSS |\n",
    "| Keras |"
   ]
  },
  {
   "cell_type": "markdown",
   "id": "e823eb62-fb6a-49aa-aac1-58c61563ec90",
   "metadata": {},
   "source": [
    "### Below are a few examples of evaluating arithmetic expressions in Python.\n"
   ]
  },
  {
   "cell_type": "code",
   "execution_count": 10,
   "id": "ff5670f2-279a-4de8-bf09-1f469e454c41",
   "metadata": {
    "tags": []
   },
   "outputs": [
    {
     "data": {
      "text/plain": [
       "17"
      ]
     },
     "execution_count": 10,
     "metadata": {},
     "output_type": "execute_result"
    }
   ],
   "source": [
    "# This a simple arithmetic expression to mutiply then add integers\n",
    "(3*4)+5"
   ]
  },
  {
   "cell_type": "code",
   "execution_count": 30,
   "id": "21b9f8bb-12b0-4965-a3c7-a02772902a23",
   "metadata": {
    "tags": []
   },
   "outputs": [
    {
     "name": "stdout",
     "output_type": "stream",
     "text": [
      "length in hours is : 3.3333333333333335\n"
     ]
    }
   ],
   "source": [
    "# This will convert 200 minutes to hours by diving by 60\n",
    "value = 200/60 \n",
    "print('length in hours is : {}'.format(float(value)))\n"
   ]
  },
  {
   "cell_type": "markdown",
   "id": "df2d8d99-77ae-4a70-b725-dffabe1fd12e",
   "metadata": {},
   "source": [
    "## Autor: \n",
    "Adnan Almarzooq"
   ]
  }
 ],
 "metadata": {
  "kernelspec": {
   "display_name": "Python",
   "language": "python",
   "name": "conda-env-python-py"
  },
  "language_info": {
   "codemirror_mode": {
    "name": "ipython",
    "version": 3
   },
   "file_extension": ".py",
   "mimetype": "text/x-python",
   "name": "python",
   "nbconvert_exporter": "python",
   "pygments_lexer": "ipython3",
   "version": "3.7.12"
  }
 },
 "nbformat": 4,
 "nbformat_minor": 5
}
